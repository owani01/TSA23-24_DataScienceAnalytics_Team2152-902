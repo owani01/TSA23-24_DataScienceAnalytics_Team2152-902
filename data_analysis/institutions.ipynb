{
 "cells": [
  {
   "cell_type": "code",
   "execution_count": null,
   "metadata": {},
   "outputs": [],
   "source": [
    "import pandas as pd\n",
    "import matplotlib.pyplot as plot\n",
    "\n",
    "df_public = pd.read_excel(\"/workspaces/codespaces-jupyter/data_analysis/Disbursements by Institution Dataset.xlsx\", sheet_name=\"Public\")\n",
    "df_private_nonprofit = pd.read_excel(\"/workspaces/codespaces-jupyter/data_analysis/Disbursements by Institution Dataset.xlsx\", sheet_name=\"Private-Nonprofit\")\n",
    "df_proprietary = pd.read_excel(\"/workspaces/codespaces-jupyter/data_analysis/Disbursements by Institution Dataset.xlsx\", sheet_name=\"Proprietary\")\n",
    "df_foreign_public = pd.read_excel(\"/workspaces/codespaces-jupyter/data_analysis/Disbursements by Institution Dataset.xlsx\", sheet_name=\"Foreign-Public\")\n",
    "df_foreign_private_nonprofit = pd.read_excel(\"/workspaces/codespaces-jupyter/data_analysis/Disbursements by Institution Dataset.xlsx\", sheet_name=\"Foreign-Private-Nonprofit\")\n",
    "df_foreign_proprietary = pd.read_excel(\"/workspaces/codespaces-jupyter/data_analysis/Disbursements by Institution Dataset.xlsx\", sheet_name=\"Foreign-Proprietary\")\n"
   ]
  }
 ],
 "metadata": {
  "language_info": {
   "name": "python"
  }
 },
 "nbformat": 4,
 "nbformat_minor": 2
}
